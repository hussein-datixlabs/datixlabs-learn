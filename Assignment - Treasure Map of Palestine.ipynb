{
 "cells": [
  {
   "cell_type": "markdown",
   "id": "e9b082da",
   "metadata": {},
   "source": [
    "###  Assignment: Treasure Map of Palestine"
   ]
  },
  {
   "cell_type": "markdown",
   "id": "ec2c1f48",
   "metadata": {},
   "source": [
    "Your adventure begins! You are tasked with preparing the treasure map and solving clues to discover the hidden treasure.\n",
    "Use your Python skills to create, update, and analyze the data. Good luck!"
   ]
  },
  {
   "cell_type": "markdown",
   "id": "4046f0f7",
   "metadata": {},
   "source": [
    "### Part 1: Preparing the Map"
   ]
  },
  {
   "cell_type": "markdown",
   "id": "a138953f",
   "metadata": {},
   "source": [
    "You are given a list of potential locations where the treasure might be hidden. However, the map is incomplete, and some key information is missing.\n",
    "\n",
    "Locations currently on the map:"
   ]
  },
  {
   "cell_type": "code",
   "execution_count": null,
   "id": "c88159ae",
   "metadata": {},
   "outputs": [],
   "source": [
    "locations = ['Al-Aqsa Mosque', 'Hisham’s Palace', 'Church of the Nativity', 'Ibrahimi Mosque']"
   ]
  },
  {
   "cell_type": "markdown",
   "id": "cc64d3ce",
   "metadata": {},
   "source": [
    "#### Task 1:\n",
    "Add the following locations to the list:\n",
    "- 'Gaza City'\n",
    "- 'Qumran Caves'\n",
    "- 'Acre Fortress'\n",
    "\n",
    "Write your code below:\n"
   ]
  },
  {
   "cell_type": "code",
   "execution_count": null,
   "id": "f3e0ef7b",
   "metadata": {},
   "outputs": [],
   "source": [
    "# Your code here:"
   ]
  },
  {
   "cell_type": "markdown",
   "id": "46b7c5a7",
   "metadata": {},
   "source": [
    "### Part 2: Adding Coordinates"
   ]
  },
  {
   "cell_type": "markdown",
   "id": "4722c7e2",
   "metadata": {},
   "source": [
    "You need to add the geographic coordinates (latitude, longitude) for each location. If a location doesn't have a description yet, assign 'Unknown'.\n",
    "\n",
    "Use the coordinates provided below:\n",
    "- Al-Aqsa Mosque: (31.7767, 35.2355)\n",
    "- Hisham’s Palace: (31.9058, 35.3194)\n",
    "- Church of the Nativity: (31.7101, 35.2024)\n",
    "- Ibrahimi Mosque: (31.6249, 35.1097)\n",
    "- Gaza City: (31.5, 34.47)\n",
    "- Qumran Caves: (31.7071, 35.4282)\n",
    "- Acre Fortress: (32.9222, 35.0737)"
   ]
  },
  {
   "cell_type": "markdown",
   "id": "a578e7be",
   "metadata": {},
   "source": [
    "#### Task 2:\n",
    "Create a dictionary named `location_coordinates` where each key is a location name,\n",
    "and the value is a tuple containing its coordinates.\n",
    "\n",
    "Write your code below:"
   ]
  },
  {
   "cell_type": "code",
   "execution_count": null,
   "id": "354c7aeb",
   "metadata": {},
   "outputs": [],
   "source": [
    "# Your code here:"
   ]
  },
  {
   "cell_type": "markdown",
   "id": "20d07e37",
   "metadata": {},
   "source": [
    "### Part 3: Updating coordinates"
   ]
  },
  {
   "cell_type": "markdown",
   "id": "fd9b975a",
   "metadata": {},
   "source": [
    "While exploring, you discover that the coordinates for some sites need to be updated.\n",
    "\n",
    "Here are the new coordinates for two sites:\n",
    "- Gaza City: (31.5, 34.47) \n",
    "- Qumran Caves: (31.7071, 35.4282)"
   ]
  },
  {
   "cell_type": "markdown",
   "id": "228f6a3f",
   "metadata": {},
   "source": [
    "#### Task 3:\n",
    "\n",
    "Update the `location_coordinates` dictionary with the new coordinates for Gaza City and Qumran Caves.\n",
    "\n",
    "Write your code below:\n"
   ]
  },
  {
   "cell_type": "code",
   "execution_count": null,
   "id": "1b00fe06",
   "metadata": {},
   "outputs": [],
   "source": [
    "# Your code here:"
   ]
  },
  {
   "cell_type": "markdown",
   "id": "ccd5e895",
   "metadata": {},
   "source": [
    "### Part 4: Finding the Treasure"
   ]
  },
  {
   "cell_type": "markdown",
   "id": "76f542eb",
   "metadata": {},
   "source": [
    "A traveler gives you a clue: \"The treasure is hidden at a heritage site where the coordinates are:\n",
    "- The latitude is greater than 31.7\n",
    "- The longitude is less than 35.4\""
   ]
  },
  {
   "cell_type": "markdown",
   "id": "54e95afc",
   "metadata": {},
   "source": [
    "#### Task 4:\n",
    "Use the `location_coordinates` dictionary to identify which locations\n",
    "match this condition. Store the matching locations in a new list called `potential_treasure_locations`.\n",
    "\n",
    "Write your code below:\n"
   ]
  },
  {
   "cell_type": "code",
   "execution_count": null,
   "id": "8a8f1f9f",
   "metadata": {},
   "outputs": [],
   "source": [
    "# Your code here:"
   ]
  },
  {
   "cell_type": "markdown",
   "id": "ae8148a9",
   "metadata": {},
   "source": [
    "### Part 5: Reveal the Treasure"
   ]
  },
  {
   "cell_type": "markdown",
   "id": "3064e5eb",
   "metadata": {},
   "source": [
    "The final clue states: \"The treasure is at the location whose name contains the word 'Mosque'.\""
   ]
  },
  {
   "cell_type": "markdown",
   "id": "ed7e139f",
   "metadata": {},
   "source": [
    "### Task 5:\n",
    "Use the `potential_treasure_locations` list to find the final treasure location.\n",
    "Assign the name of this location to a variable called `treasure_location`.\n",
    "\n",
    "Write your code below:\n"
   ]
  },
  {
   "cell_type": "code",
   "execution_count": null,
   "id": "9b0973fb",
   "metadata": {},
   "outputs": [],
   "source": [
    "# Your code here:"
   ]
  }
 ],
 "metadata": {
  "kernelspec": {
   "display_name": "Python 3 (ipykernel)",
   "language": "python",
   "name": "python3"
  },
  "language_info": {
   "codemirror_mode": {
    "name": "ipython",
    "version": 3
   },
   "file_extension": ".py",
   "mimetype": "text/x-python",
   "name": "python",
   "nbconvert_exporter": "python",
   "pygments_lexer": "ipython3",
   "version": "3.12.5"
  }
 },
 "nbformat": 4,
 "nbformat_minor": 5
}
